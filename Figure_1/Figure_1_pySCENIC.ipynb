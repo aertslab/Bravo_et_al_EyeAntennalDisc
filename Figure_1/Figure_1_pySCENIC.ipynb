{
 "cells": [
  {
   "cell_type": "markdown",
   "metadata": {},
   "source": [
    "# Load required modules"
   ]
  },
  {
   "cell_type": "code",
   "execution_count": null,
   "metadata": {},
   "outputs": [],
   "source": [
    "import os\n",
    "import glob\n",
    "import pickle\n",
    "import pandas as pd\n",
    "import numpy as np\n",
    "\n",
    "from dask.diagnostics import ProgressBar\n",
    "\n",
    "from arboreto.utils import load_tf_names\n",
    "from arboreto.algo import grnboost2\n",
    "\n",
    "from pyscenic.rnkdb import FeatherRankingDatabase as RankingDatabase\n",
    "from pyscenic.utils import modules_from_adjacencies, load_motifs\n",
    "from pyscenic.prune import prune2df, df2regulons\n",
    "from pyscenic.aucell import aucell\n",
    "\n",
    "import seaborn as sns"
   ]
  },
  {
   "cell_type": "markdown",
   "metadata": {},
   "source": [
    "# Set variables"
   ]
  },
  {
   "cell_type": "code",
   "execution_count": null,
   "metadata": {},
   "outputs": [],
   "source": [
    "## Data\n",
    "COUNT_MATRIX = pd.read_csv('Figure_1/Input_data/GEO_data/10X_SCRNASEQ_WT_EA_AGGR.tsv', sep='\\t', header=0, index_col=0).T\n",
    "TFS_NAMES = load_tf_names('Figure_1/Input_data/SCENIC_data/allTFs_dmel.txt')\n",
    "\n",
    "## Databases\n",
    "DATABASE_FOLDER = 'pySCENIC_databases' \n",
    "DATABASES_GLOB = os.path.join(DATABASE_FOLDER, \"dm6-5kb-upstream-full-tx-11species.mc8nr.feather\") # Feather databases are available at: https://resources.aertslab.org/cistarget/\n",
    "MOTIF_ANNOTATIONS_FNAME = os.path.join(DATABASE_FOLDER, \"motifs-v8-nr.flybase-m0.001-o0.0.tbl\") # Available at: https://resources.aertslab.org/cistarget/motif2tf/\n",
    "\n",
    "## Load databases\n",
    "db_fnames = glob.glob(DATABASES_GLOB)\n",
    "def name(fname):\n",
    "    return os.path.splitext(os.path.basename(fname))[0]\n",
    "dbs = [RankingDatabase(fname=fname, name=name(fname)) for fname in db_fnames]\n",
    "\n",
    "## Output folder\n",
    "OUT_FOLDER=\"Figure_1/Processed_data/SCENIC/\"\n",
    "ADJACENCIES_FNAME = os.path.join(OUT_FOLDER, \"adjacencies.tsv\")\n",
    "MODULES_FNAME = os.path.join(OUT_FOLDER, \"modules.p\")\n",
    "MOTIFS_FNAME = os.path.join(OUT_FOLDER, \"motifs.p\")\n",
    "REGULONS_FNAME = os.path.join(OUT_FOLDER, \"regulons.p\")\n",
    "AUCMAT_FNAME = os.path.join(OUT_FOLDER, \"aucMatrix.tsv\")\n",
    "\n",
    "## Set scheduler\n",
    "from distributed import LocalCluster, Client\n",
    "SCHEDULER = Client('tcp://10.118.224.141:8786')"
   ]
  },
  {
   "cell_type": "markdown",
   "metadata": {},
   "source": [
    "# Infer co-expression modules"
   ]
  },
  {
   "cell_type": "code",
   "execution_count": null,
   "metadata": {},
   "outputs": [],
   "source": [
    "adjacencies = grnboost2(expression_data=COUNT_MATRIX, tf_names=TFS_NAMES, seed=123, client_or_address=SCHEDULER)\n",
    "adjacencies.to_csv(ADJACENCIES_FNAME, index=False, sep='\\t')\n",
    "modules = list(modules_from_adjacencies(adjacencies, COUNT_MATRIX))\n",
    "with open(MODULES_FNAME, 'wb') as f:\n",
    "    pickle.dump(modules, f)"
   ]
  },
  {
   "cell_type": "markdown",
   "metadata": {},
   "source": [
    "# Prune modules based for targets with cis-regulatory footprints (cisTarget)"
   ]
  },
  {
   "cell_type": "code",
   "execution_count": null,
   "metadata": {},
   "outputs": [],
   "source": [
    "# Motif enrichment\n",
    "motifEnr = prune2df(dbs, modules, MOTIF_ANNOTATIONS_FNAME, client_or_address=SCHEDULER)\n",
    "with open(MOTIFS_FNAME, 'wb') as f:\n",
    "    pickle.dump(motifEnr, f)\n",
    "\n",
    "# Cleanup and export to text\n",
    "def export_motifs2txt(motifEnr, fileName):\n",
    "    fileName=os.path.splitext(fileName)[0]+'.tsv' \n",
    "    met=motifEnr['Enrichment']\n",
    "    met.Context = [list(dbn)[2] for dbn in met.Context]\n",
    "    met.TargetGenes=[\"; \".join(sorted([gs[0] for gs in row])) for row in met.TargetGenes]\n",
    "    met=met.drop(columns='Annotation')\n",
    "    met.columns.values[met.columns.values=='Context']='DB'\n",
    "    met.to_csv(fileName, sep='\\t') \n",
    "            \n",
    "export_motifs2txt(motifEnr, MOTIFS_FNAME)\n",
    "\n",
    "regulons = df2regulons(motifEnr)\n",
    "with open(REGULONS_FNAME, 'wb') as f:\n",
    "    pickle.dump(regulons, f)\n",
    "    \n",
    "regulons_original=regulons\n",
    "regulons = [r.rename(r.name.replace('(+)',' ('+str(len(r))+'g)')) for r in regulons]\n",
    "\n",
    "# Export (e.g. to import in R SCENIC)\n",
    "def export_asGmt(regulons, fileName):\n",
    "    fileName=os.path.splitext(fileName)[0]+'.gmt'\n",
    "    with open(fileName, 'w') as f:\n",
    "        for reg in regulons:\n",
    "            f.write(reg.name + \"\\t.\\t\" + '\\t'.join(list(reg.gene2weight.keys())) + '\\n')\n",
    "            \n",
    "\n",
    "export_asGmt(modules, MODULES_FNAME)\n",
    "export_asGmt(regulons, REGULONS_FNAME)"
   ]
  },
  {
   "cell_type": "markdown",
   "metadata": {},
   "source": [
    "# Cellular regulon enrichment matrix (AUCell)"
   ]
  },
  {
   "cell_type": "code",
   "execution_count": null,
   "metadata": {},
   "outputs": [],
   "source": [
    "auc_mtx = aucell(COUNT_MATRIX, regulons, num_workers=1)\n",
    "auc_mtx = auc_mtx.loc[ex_matrix.index]\n",
    "auc_mtx.to_csv(AUCMAT_FNAME) "
   ]
  },
  {
   "cell_type": "markdown",
   "metadata": {},
   "source": [
    "# ChIP-seq regulons"
   ]
  },
  {
   "cell_type": "code",
   "execution_count": null,
   "metadata": {},
   "outputs": [],
   "source": [
    "## Databases\n",
    "DATABASE_FOLDER = 'Figure_1/Input_data/SCENIC_data/' \n",
    "DATABASES_GLOB = os.path.join(DATABASE_FOLDER, \"encode_modERN_20190621__ChIP_seq.max_GENEBASED.feather\")\n",
    "MOTIF_ANNOTATIONS_FNAME = os.path.join(DATABASE_FOLDER, \"encode_modERN_20190621_dm6_annotation.tbl\")\n",
    "\n",
    "## Load databases\n",
    "db_fnames = glob.glob(DATABASES_GLOB)\n",
    "def name(fname):\n",
    "    return os.path.splitext(os.path.basename(fname))[0]\n",
    "    \n",
    "dbs = [RankingDatabase(fname=fname, name=name(fname)) for fname in db_fnames]\n",
    "\n",
    "## Load modules\n",
    "with open(MODULES_FNAME, 'rb') as f:\n",
    "    modules = pickle.load(f)\n",
    "\n",
    "# Motif enrichment\n",
    "MOTIFS_FNAME = os.path.join(OUT_FOLDER, \"motifs_ChIPseq.p\")\n",
    "motifEnr = prune2df(dbs, modules, MOTIF_ANNOTATIONS_FNAME)\n",
    "with open(MOTIFS_FNAME, 'wb') as f:\n",
    "    pickle.dump(motifEnr, f)\n",
    "\n",
    "# Cleanup and export to text\n",
    "def export_motifs2txt(motifEnr, fileName):\n",
    "    fileName=os.path.splitext(fileName)[0]+'.tsv' \n",
    "    met=motifEnr['Enrichment']\n",
    "    met.Context = [list(dbn)[2] for dbn in met.Context]\n",
    "    met.TargetGenes=[\"; \".join(sorted([gs[0] for gs in row])) for row in met.TargetGenes]\n",
    "    met=met.drop(columns='Annotation')\n",
    "    met.columns.values[met.columns.values=='Context']='DB'\n",
    "    met.to_csv(fileName, sep='\\t') \n",
    "            \n",
    "export_motifs2txt(motifEnr, MOTIFS_FNAME)\n",
    "\n",
    "REGULONS_FNAME = os.path.join(OUT_FOLDER, \"regulons_ChIPseq.p\")\n",
    "regulons = df2regulons(motifEnr)\n",
    "with open(REGULONS_FNAME, 'wb') as f:\n",
    "    pickle.dump(regulons, f)\n",
    "    \n",
    "regulons_original=regulons\n",
    "regulons = [r.rename(r.name.replace('(+)',' ('+str(len(r))+'g)')) for r in regulons]\n",
    "\n",
    "# Export (e.g. to import in R SCENIC)\n",
    "def export_asGmt(regulons, fileName):\n",
    "    fileName=os.path.splitext(fileName)[0]+'.gmt'\n",
    "    with open(fileName, 'w') as f:\n",
    "        for reg in regulons:\n",
    "            f.write(reg.name + \"\\t.\\t\" + '\\t'.join(list(reg.gene2weight.keys())) + '\\n')\n",
    "            \n",
    "\n",
    "export_asGmt(modules, MODULES_FNAME)\n",
    "export_asGmt(regulons, REGULONS_FNAME)\n",
    "\n",
    "# AUCell\n",
    "AUCMAT_FNAME = os.path.join(OUT_FOLDER, \"aucMatrix_ChIPseq.tsv\")\n",
    "auc_mtx = aucell(COUNT_MATRIX, regulons, num_workers=1)\n",
    "auc_mtx = auc_mtx.loc[ex_matrix.index]\n",
    "auc_mtx.to_csv(AUCMAT_FNAME) "
   ]
  },
  {
   "cell_type": "markdown",
   "metadata": {},
   "source": [
    "For further details on how to run pySCENIC, please visit: https://github.com/aertslab/pySCENIC"
   ]
  }
 ],
 "metadata": {
  "kernelspec": {
   "display_name": "pySCENIC 0.9.9 - Genius r23i27n22",
   "language": "python3",
   "name": "rik_ssh_genius_r23i27n22_pyscenic099"
  },
  "language_info": {
   "name": ""
  }
 },
 "nbformat": 4,
 "nbformat_minor": 4
}
